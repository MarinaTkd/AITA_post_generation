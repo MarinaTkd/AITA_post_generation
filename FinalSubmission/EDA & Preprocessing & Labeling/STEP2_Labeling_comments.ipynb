{
  "cells": [
    {
      "cell_type": "code",
      "execution_count": null,
      "id": "9d7227b4",
      "metadata": {
        "id": "9d7227b4"
      },
      "outputs": [],
      "source": [
        "import re\n",
        "import pandas as pd\n",
        "import numpy as np\n"
      ]
    },
    {
      "cell_type": "code",
      "execution_count": null,
      "id": "15ef2dc6",
      "metadata": {
        "id": "15ef2dc6"
      },
      "outputs": [],
      "source": [
        "df_comment = pd.read_csv('comments.csv')"
      ]
    },
    {
      "cell_type": "markdown",
      "id": "d43340ef",
      "metadata": {
        "id": "d43340ef"
      },
      "source": [
        "# Comments EDA"
      ]
    },
    {
      "cell_type": "markdown",
      "id": "338ead38",
      "metadata": {
        "id": "338ead38"
      },
      "source": [
        "## Reviwing existing dataset"
      ]
    },
    {
      "cell_type": "code",
      "execution_count": null,
      "id": "06cc78b4",
      "metadata": {
        "id": "06cc78b4"
      },
      "outputs": [],
      "source": [
        "# Counting duplicates in each column\n",
        "def count_duplicates_in_columns(df):\n",
        "    duplicate_counts = {}\n",
        "    for column in df.columns:\n",
        "        duplicates_count = df[df.duplicated(subset=[column], keep=False)].shape[0]\n",
        "        duplicate_counts[column] = duplicates_count\n",
        "    return duplicate_counts\n",
        "\n"
      ]
    },
    {
      "cell_type": "code",
      "execution_count": null,
      "id": "0705eb17",
      "metadata": {
        "id": "0705eb17",
        "outputId": "4987b602-d7b1-4e64-9562-07aae533fe3a"
      },
      "outputs": [
        {
          "data": {
            "text/html": [
              "<div>\n",
              "<style scoped>\n",
              "    .dataframe tbody tr th:only-of-type {\n",
              "        vertical-align: middle;\n",
              "    }\n",
              "\n",
              "    .dataframe tbody tr th {\n",
              "        vertical-align: top;\n",
              "    }\n",
              "\n",
              "    .dataframe thead th {\n",
              "        text-align: right;\n",
              "    }\n",
              "</style>\n",
              "<table border=\"1\" class=\"dataframe\">\n",
              "  <thead>\n",
              "    <tr style=\"text-align: right;\">\n",
              "      <th></th>\n",
              "      <th>Unnamed: 0</th>\n",
              "      <th>id</th>\n",
              "      <th>submission_id</th>\n",
              "      <th>message</th>\n",
              "      <th>comment_id</th>\n",
              "      <th>parent_id</th>\n",
              "      <th>created_utc</th>\n",
              "      <th>score</th>\n",
              "    </tr>\n",
              "  </thead>\n",
              "  <tbody>\n",
              "    <tr>\n",
              "      <th>0</th>\n",
              "      <td>0</td>\n",
              "      <td>1</td>\n",
              "      <td>xt1ksm</td>\n",
              "      <td>Do people with two digits to their age really ...</td>\n",
              "      <td>irs5v1y</td>\n",
              "      <td>t3_xt1ksm</td>\n",
              "      <td>1665421334</td>\n",
              "      <td>59</td>\n",
              "    </tr>\n",
              "    <tr>\n",
              "      <th>1</th>\n",
              "      <td>1</td>\n",
              "      <td>2</td>\n",
              "      <td>xt1ksm</td>\n",
              "      <td>Lots of posts in the last 3-4 days about rando...</td>\n",
              "      <td>isdxgsq</td>\n",
              "      <td>t3_xt1ksm</td>\n",
              "      <td>1665813660</td>\n",
              "      <td>55</td>\n",
              "    </tr>\n",
              "    <tr>\n",
              "      <th>2</th>\n",
              "      <td>2</td>\n",
              "      <td>3</td>\n",
              "      <td>xt1ksm</td>\n",
              "      <td>Sometimes I think people are making up stories...</td>\n",
              "      <td>iryatl4</td>\n",
              "      <td>t3_xt1ksm</td>\n",
              "      <td>1665529128</td>\n",
              "      <td>40</td>\n",
              "    </tr>\n",
              "    <tr>\n",
              "      <th>3</th>\n",
              "      <td>3</td>\n",
              "      <td>4</td>\n",
              "      <td>xt1ksm</td>\n",
              "      <td>Saw it on FB but it's hilarious how threads wi...</td>\n",
              "      <td>is3i5i9</td>\n",
              "      <td>t3_xt1ksm</td>\n",
              "      <td>1665622760</td>\n",
              "      <td>33</td>\n",
              "    </tr>\n",
              "    <tr>\n",
              "      <th>4</th>\n",
              "      <td>4</td>\n",
              "      <td>5</td>\n",
              "      <td>xt1ksm</td>\n",
              "      <td>The OP: My MIL can be a bit petty sometimes\\n\\...</td>\n",
              "      <td>ituw9ym</td>\n",
              "      <td>t3_xt1ksm</td>\n",
              "      <td>1666793880</td>\n",
              "      <td>32</td>\n",
              "    </tr>\n",
              "  </tbody>\n",
              "</table>\n",
              "</div>"
            ],
            "text/plain": [
              "   Unnamed: 0  id submission_id  \\\n",
              "0           0   1        xt1ksm   \n",
              "1           1   2        xt1ksm   \n",
              "2           2   3        xt1ksm   \n",
              "3           3   4        xt1ksm   \n",
              "4           4   5        xt1ksm   \n",
              "\n",
              "                                             message comment_id  parent_id  \\\n",
              "0  Do people with two digits to their age really ...    irs5v1y  t3_xt1ksm   \n",
              "1  Lots of posts in the last 3-4 days about rando...    isdxgsq  t3_xt1ksm   \n",
              "2  Sometimes I think people are making up stories...    iryatl4  t3_xt1ksm   \n",
              "3  Saw it on FB but it's hilarious how threads wi...    is3i5i9  t3_xt1ksm   \n",
              "4  The OP: My MIL can be a bit petty sometimes\\n\\...    ituw9ym  t3_xt1ksm   \n",
              "\n",
              "   created_utc  score  \n",
              "0   1665421334     59  \n",
              "1   1665813660     55  \n",
              "2   1665529128     40  \n",
              "3   1665622760     33  \n",
              "4   1666793880     32  "
            ]
          },
          "execution_count": 5,
          "metadata": {},
          "output_type": "execute_result"
        }
      ],
      "source": [
        "df_comment.head()"
      ]
    },
    {
      "cell_type": "code",
      "execution_count": null,
      "id": "27722936",
      "metadata": {
        "id": "27722936"
      },
      "outputs": [],
      "source": [
        "columns_to_drop  = ['created_utc', 'Unnamed: 0', 'id']\n",
        "df_comment = df_comment.drop(columns=columns_to_drop, errors='ignore')"
      ]
    },
    {
      "cell_type": "markdown",
      "id": "1e8824bf",
      "metadata": {
        "id": "1e8824bf"
      },
      "source": [
        "## Keeping only commens for cleaned posts"
      ]
    },
    {
      "cell_type": "code",
      "execution_count": null,
      "id": "6e4ed066",
      "metadata": {
        "id": "6e4ed066"
      },
      "outputs": [],
      "source": [
        "df_posts_cleaned = pd.read_csv(\"df_posts_cleaned.csv\")"
      ]
    },
    {
      "cell_type": "code",
      "execution_count": null,
      "id": "8454e100",
      "metadata": {
        "id": "8454e100"
      },
      "outputs": [],
      "source": [
        "post_ids = df_posts_cleaned['submission_id'].unique()"
      ]
    },
    {
      "cell_type": "code",
      "execution_count": null,
      "id": "1ef65d22",
      "metadata": {
        "id": "1ef65d22",
        "outputId": "d912516f-1341-4d75-c027-49898f7233ca"
      },
      "outputs": [
        {
          "data": {
            "text/plain": [
              "30135"
            ]
          },
          "execution_count": 6,
          "metadata": {},
          "output_type": "execute_result"
        }
      ],
      "source": [
        "len(post_ids)"
      ]
    },
    {
      "cell_type": "code",
      "execution_count": null,
      "id": "7bf7caa2",
      "metadata": {
        "id": "7bf7caa2"
      },
      "outputs": [],
      "source": [
        "df_comment = df_comment[df_comment['submission_id'].isin(post_ids)]"
      ]
    },
    {
      "cell_type": "code",
      "execution_count": null,
      "id": "32246aad",
      "metadata": {
        "id": "32246aad",
        "outputId": "0bb6b30f-dcf2-4c1d-cc3d-f270dfb0431b"
      },
      "outputs": [
        {
          "data": {
            "text/plain": [
              "(8981904, 5)"
            ]
          },
          "execution_count": 9,
          "metadata": {},
          "output_type": "execute_result"
        }
      ],
      "source": [
        "df_comment.shape"
      ]
    },
    {
      "cell_type": "code",
      "execution_count": null,
      "id": "dcff6b04",
      "metadata": {
        "id": "dcff6b04"
      },
      "outputs": [],
      "source": [
        "submission_id_counts = df_comment['submission_id'].value_counts()"
      ]
    },
    {
      "cell_type": "code",
      "execution_count": null,
      "id": "1b4c828a",
      "metadata": {
        "id": "1b4c828a",
        "outputId": "d1695706-ffa3-49f3-8098-80dead072688"
      },
      "outputs": [
        {
          "data": {
            "text/plain": [
              "count    30118.000000\n",
              "mean       298.223786\n",
              "std        277.817601\n",
              "min          1.000000\n",
              "25%         74.000000\n",
              "50%        184.000000\n",
              "75%        494.000000\n",
              "max       1708.000000\n",
              "Name: count, dtype: float64"
            ]
          },
          "execution_count": 11,
          "metadata": {},
          "output_type": "execute_result"
        }
      ],
      "source": [
        "submission_id_counts.describe()"
      ]
    },
    {
      "cell_type": "code",
      "execution_count": null,
      "id": "87af253b",
      "metadata": {
        "id": "87af253b",
        "outputId": "be24a674-1b87-495d-baf0-db275086dd3e"
      },
      "outputs": [
        {
          "data": {
            "text/plain": [
              "28"
            ]
          },
          "execution_count": 13,
          "metadata": {},
          "output_type": "execute_result"
        }
      ],
      "source": [
        "# this posts will later be removed from posts df\n",
        "submission_ids_below_3 = submission_id_counts[submission_id_counts < 3].index.tolist()\n",
        "len(submission_ids_below_3)\n"
      ]
    },
    {
      "cell_type": "code",
      "execution_count": null,
      "id": "e660c125",
      "metadata": {
        "id": "e660c125"
      },
      "outputs": [],
      "source": [
        "df_comment.reset_index(drop=True, inplace= True)"
      ]
    },
    {
      "cell_type": "markdown",
      "id": "34c7de10",
      "metadata": {
        "id": "34c7de10"
      },
      "source": [
        "## Cleaning"
      ]
    },
    {
      "cell_type": "code",
      "execution_count": null,
      "id": "14f9387a",
      "metadata": {
        "id": "14f9387a"
      },
      "outputs": [],
      "source": [
        "# removing empty messages:\n",
        "df_comment.dropna(subset=['message'], inplace=True)"
      ]
    },
    {
      "cell_type": "code",
      "execution_count": null,
      "id": "bce6f6d9",
      "metadata": {
        "id": "bce6f6d9",
        "outputId": "46feb588-2055-4dc5-9fd3-c58b558094ad"
      },
      "outputs": [
        {
          "data": {
            "text/plain": [
              "submission_id    0\n",
              "message          0\n",
              "comment_id       0\n",
              "parent_id        0\n",
              "score            0\n",
              "dtype: int64"
            ]
          },
          "execution_count": 22,
          "metadata": {},
          "output_type": "execute_result"
        }
      ],
      "source": [
        "df_comment.isnull().sum()"
      ]
    },
    {
      "cell_type": "code",
      "execution_count": null,
      "id": "9ab892a8",
      "metadata": {
        "id": "9ab892a8",
        "outputId": "8c23b9df-ed0c-40a0-d70d-d0eac36af9f7"
      },
      "outputs": [
        {
          "data": {
            "text/plain": [
              "\"YTA\\n\\nHe's nice enough to let you live at his house—for free—and you're asking him to *redecorate* for you? Of all the nerve. \\n\\nAnd your wife kicked up a fuss when Anthony *walked down the hall past her door*? It was *she* who didn't shut the door, for Pete's sake. \\n\\nIf I were you I'd start packing, because Anthony is about to throw you guys out.\""
            ]
          },
          "execution_count": 17,
          "metadata": {},
          "output_type": "execute_result"
        }
      ],
      "source": [
        "df_comment['message'][7]"
      ]
    },
    {
      "cell_type": "code",
      "execution_count": null,
      "id": "55c791da",
      "metadata": {
        "id": "55c791da",
        "outputId": "1072c583-3b6d-4e08-92b9-893bb50a4c42"
      },
      "outputs": [
        {
          "data": {
            "text/html": [
              "<div>\n",
              "<style scoped>\n",
              "    .dataframe tbody tr th:only-of-type {\n",
              "        vertical-align: middle;\n",
              "    }\n",
              "\n",
              "    .dataframe tbody tr th {\n",
              "        vertical-align: top;\n",
              "    }\n",
              "\n",
              "    .dataframe thead th {\n",
              "        text-align: right;\n",
              "    }\n",
              "</style>\n",
              "<table border=\"1\" class=\"dataframe\">\n",
              "  <thead>\n",
              "    <tr style=\"text-align: right;\">\n",
              "      <th></th>\n",
              "      <th>message</th>\n",
              "      <th>cleaned_message</th>\n",
              "    </tr>\n",
              "  </thead>\n",
              "  <tbody>\n",
              "    <tr>\n",
              "      <th>0</th>\n",
              "      <td>Welcome to /r/AmITheAsshole. Please view our [...</td>\n",
              "      <td>welcome to ramitheasshole please view our voti...</td>\n",
              "    </tr>\n",
              "    <tr>\n",
              "      <th>1</th>\n",
              "      <td>**You are guests in their home because you are...</td>\n",
              "      <td>you are guests in their home because you are c...</td>\n",
              "    </tr>\n",
              "    <tr>\n",
              "      <th>2</th>\n",
              "      <td>YTA, and your wife seems to be systematically ...</td>\n",
              "      <td>yta and your wife seems to be systematically d...</td>\n",
              "    </tr>\n",
              "    <tr>\n",
              "      <th>3</th>\n",
              "      <td>YTA. Go stay in a hotel. If I was your friend,...</td>\n",
              "      <td>yta go stay in a hotel if i was your friend i ...</td>\n",
              "    </tr>\n",
              "    <tr>\n",
              "      <th>4</th>\n",
              "      <td>YTA - first your wife had issues with your Mom...</td>\n",
              "      <td>yta  first your wife had issues with your mom ...</td>\n",
              "    </tr>\n",
              "    <tr>\n",
              "      <th>...</th>\n",
              "      <td>...</td>\n",
              "      <td>...</td>\n",
              "    </tr>\n",
              "    <tr>\n",
              "      <th>8981899</th>\n",
              "      <td>If she's always been a tomboy and has never ch...</td>\n",
              "      <td>if shes always been a tomboy and has never cho...</td>\n",
              "    </tr>\n",
              "    <tr>\n",
              "      <th>8981900</th>\n",
              "      <td>Yup. I'm extremely close with my parents, but ...</td>\n",
              "      <td>yup im extremely close with my parents but it ...</td>\n",
              "    </tr>\n",
              "    <tr>\n",
              "      <th>8981901</th>\n",
              "      <td>He is a good man! I suppose I’ll keep him arou...</td>\n",
              "      <td>he is a good man i suppose ill keep him around...</td>\n",
              "    </tr>\n",
              "    <tr>\n",
              "      <th>8981902</th>\n",
              "      <td>I started my period really young, when I was 8...</td>\n",
              "      <td>i started my period really young when i was 8 ...</td>\n",
              "    </tr>\n",
              "    <tr>\n",
              "      <th>8981903</th>\n",
              "      <td>I’m sorry this happened to you (both the young...</td>\n",
              "      <td>im sorry this happened to you both the young a...</td>\n",
              "    </tr>\n",
              "  </tbody>\n",
              "</table>\n",
              "<p>8981898 rows × 2 columns</p>\n",
              "</div>"
            ],
            "text/plain": [
              "                                                   message  \\\n",
              "0        Welcome to /r/AmITheAsshole. Please view our [...   \n",
              "1        **You are guests in their home because you are...   \n",
              "2        YTA, and your wife seems to be systematically ...   \n",
              "3        YTA. Go stay in a hotel. If I was your friend,...   \n",
              "4        YTA - first your wife had issues with your Mom...   \n",
              "...                                                    ...   \n",
              "8981899  If she's always been a tomboy and has never ch...   \n",
              "8981900  Yup. I'm extremely close with my parents, but ...   \n",
              "8981901  He is a good man! I suppose I’ll keep him arou...   \n",
              "8981902  I started my period really young, when I was 8...   \n",
              "8981903  I’m sorry this happened to you (both the young...   \n",
              "\n",
              "                                           cleaned_message  \n",
              "0        welcome to ramitheasshole please view our voti...  \n",
              "1        you are guests in their home because you are c...  \n",
              "2        yta and your wife seems to be systematically d...  \n",
              "3        yta go stay in a hotel if i was your friend i ...  \n",
              "4        yta  first your wife had issues with your mom ...  \n",
              "...                                                    ...  \n",
              "8981899  if shes always been a tomboy and has never cho...  \n",
              "8981900  yup im extremely close with my parents but it ...  \n",
              "8981901  he is a good man i suppose ill keep him around...  \n",
              "8981902  i started my period really young when i was 8 ...  \n",
              "8981903  im sorry this happened to you both the young a...  \n",
              "\n",
              "[8981898 rows x 2 columns]"
            ]
          },
          "execution_count": 23,
          "metadata": {},
          "output_type": "execute_result"
        }
      ],
      "source": [
        "def clean_text(text):\n",
        "    text = re.sub(r'\\n+', ' ', text)\n",
        "    text = re.sub(r'\\s+', ' ', text)\n",
        "    text = re.sub(r'[^\\w\\s]', '', text)\n",
        "    text = text.lower()\n",
        "    text = text.strip()\n",
        "    return text\n",
        "\n",
        "df_comment['cleaned_message'] = df_comment['message'].apply(clean_text)\n",
        "\n",
        "df_comment[['message', 'cleaned_message']]"
      ]
    },
    {
      "cell_type": "code",
      "execution_count": null,
      "id": "32139101",
      "metadata": {
        "id": "32139101"
      },
      "outputs": [],
      "source": [
        "df_comment = df_comment.drop(columns='message', errors='ignore')\n",
        "df_comment.to_csv('df_comment_cleaned.csv')"
      ]
    },
    {
      "cell_type": "markdown",
      "id": "ae7e77c7",
      "metadata": {
        "id": "ae7e77c7"
      },
      "source": [
        "## Labeling"
      ]
    },
    {
      "cell_type": "code",
      "execution_count": null,
      "id": "d5609541",
      "metadata": {
        "id": "d5609541",
        "outputId": "9163c523-2c98-442a-c3f8-ed16371a3cd5"
      },
      "outputs": [
        {
          "data": {
            "text/plain": [
              "'yta hes nice enough to let you live at his housefor freeand youre asking him to redecorate for you of all the nerve and your wife kicked up a fuss when anthony walked down the hall past her door it was she who didnt shut the door for petes sake if i were you id start packing because anthony is about to throw you guys out'"
            ]
          },
          "execution_count": 26,
          "metadata": {},
          "output_type": "execute_result"
        }
      ],
      "source": [
        "df_comment['cleaned_message'][7]"
      ]
    },
    {
      "cell_type": "code",
      "execution_count": null,
      "id": "de9c8f81",
      "metadata": {
        "id": "de9c8f81"
      },
      "outputs": [],
      "source": [
        "# creating keywords that were taken after carefull comment analysis\n",
        "keywords = {\n",
        "    \"NTA\": [\n",
        "        r\"\\bnta\\b\", r\"\\byou’re not the asshole\\b\", r\"\\byou’re not the ah\\b\", r\"\\bdid nothing wrong\\b\",\n",
        "        r\"\\byou’re in the right\\b\", r\"\\bhandled this correctly\\b\", r\"\\bdid the right thing\\b\",\n",
        "        r\"\\btotally justified\\b\", r\"\\byou're good here\\b\", r\"\\bnot your fault\\b\", r\"\\byou’re cool\\b\",\n",
        "        r\"\\byou’re in the clear\\b\", r\"\\byou're all good\\b\", r\"\\bdid what you had to do\\b\", r\"\\bno way you're the asshole\\b\"\n",
        "    ],\n",
        "    \"YTA\": [\n",
        "        r\"\\byta\\b\", r\"\\byou’re the asshole\\b\", r\"\\byou’re the ah\\b\", r\"\\byou’re in the wrong\\b\",\n",
        "        r\"\\bshouldn’t have done that\\b\", r\"\\bthat was a jerk move\\b\", r\"\\bacted poorly\\b\",\n",
        "        r\"\\bowe an apology\\b\", r\"\\bnot cool\\b\", r\"\\bthat was out of line\\b\", r\"\\bmessed up\\b\",\n",
        "        r\"\\bbeing a jerk\\b\", r\"\\bthat's on you\\b\", r\"\\bblew it\\b\", r\"\\bthat’s a bad look\\b\",\n",
        "        r\"\\byou're wrong here\\b\"\n",
        "    ],\n",
        "    \"ESH\": [\n",
        "        r\"\\besh\\b\", r\"\\beveryone sucks here\\b\", r\"\\bboth sides are wrong\\b\", r\"\\bno one is in the right here\\b\",\n",
        "        r\"\\bboth handled this poorly\\b\", r\"\\bboth of you are at fault\\b\", r\"\\ball parties involved are wrong\\b\",\n",
        "        r\"\\byou all messed up\\b\", r\"\\bnobody wins here\\b\", r\"\\beveryone's at fault\\b\", r\"\\ball of you need to chill\\b\",\n",
        "        r\"\\byou're all being ridiculous\\b\", r\"\\beveryone's being a jerk\\b\", r\"\\byou both need to grow up\\b\",\n",
        "        r\"\\bboth parties are being dumb\\b\"\n",
        "    ],\n",
        "    \"NAH\": [\n",
        "        r\"\\bnah\\b\", r\"\\bno assholes here\\b\", r\"\\bno ah here\\b\", r\"\\bno one is at fault\\b\",\n",
        "        r\"\\beveryone acted reasonably\\b\", r\"\\bdon’t think anyone did anything wrong\\b\", r\"\\bno bad guys here\\b\",\n",
        "        r\"\\bit's just a tough situation\\b\", r\"\\bnobody’s to blame\\b\", r\"\\beveryone did their best\\b\",\n",
        "        r\"\\bjust a tough call\\b\", r\"\\bno one’s in the wrong\\b\", r\"\\bit's all good\\b\", r\"\\byou’re both fine\\b\",\n",
        "        r\"\\bjust a misunderstanding\\b\"\n",
        "    ]\n",
        "}"
      ]
    },
    {
      "cell_type": "code",
      "execution_count": null,
      "id": "0383c178",
      "metadata": {
        "id": "0383c178"
      },
      "outputs": [],
      "source": [
        "def classify_comment(comment):\n",
        "    # Check each category for the presence of keywords\n",
        "    for category, phrases in keywords.items():\n",
        "        for phrase in phrases:\n",
        "            if re.search(phrase, comment):\n",
        "                return category\n",
        "    # Return Nan that will be droped\n",
        "    return None"
      ]
    },
    {
      "cell_type": "code",
      "execution_count": null,
      "id": "bbd9abc1",
      "metadata": {
        "id": "bbd9abc1"
      },
      "outputs": [],
      "source": [
        "# Apply the classification function to the 'message' column\n",
        "df_comment['classification'] = df_comment['cleaned_message'].apply(classify_comment)\n"
      ]
    },
    {
      "cell_type": "code",
      "execution_count": null,
      "id": "48723f92",
      "metadata": {
        "id": "48723f92",
        "outputId": "4bffb5aa-2dea-423f-b516-1701099c2750"
      },
      "outputs": [
        {
          "data": {
            "text/plain": [
              "classification\n",
              "NTA    2681243\n",
              "YTA    1068886\n",
              "ESH     146694\n",
              "NAH      91808\n",
              "Name: count, dtype: int64"
            ]
          },
          "execution_count": 35,
          "metadata": {},
          "output_type": "execute_result"
        }
      ],
      "source": [
        "df_comment['classification'].value_counts()"
      ]
    },
    {
      "cell_type": "markdown",
      "id": "10a3f329",
      "metadata": {
        "id": "10a3f329"
      },
      "source": [
        "# Exploring the difference if multiple keywords are found"
      ]
    },
    {
      "cell_type": "code",
      "execution_count": null,
      "id": "31ba9272",
      "metadata": {
        "id": "31ba9272"
      },
      "outputs": [],
      "source": [
        "df_comment.dropna(subset = ['classification'], inplace = True)"
      ]
    },
    {
      "cell_type": "code",
      "execution_count": null,
      "id": "1f3f0af8",
      "metadata": {
        "id": "1f3f0af8"
      },
      "outputs": [],
      "source": [
        "# Compile regex patterns for each category\n",
        "compiled_keywords = {\n",
        "    category: [re.compile(pattern) for pattern in patterns]\n",
        "    for category, patterns in keywords.items()\n",
        "}\n",
        "\n",
        "def classify_comment_all(comment, compiled_keywords = compiled_keywords):\n",
        "    comment_lower = comment.lower()\n",
        "    matched_categories = []\n",
        "    for category, patterns in compiled_keywords.items():\n",
        "        for pattern in patterns:\n",
        "            if pattern.search(comment_lower):\n",
        "                matched_categories.append(category)\n",
        "    return matched_categories if matched_categories else None"
      ]
    },
    {
      "cell_type": "code",
      "execution_count": null,
      "id": "6d47ea27",
      "metadata": {
        "id": "6d47ea27"
      },
      "outputs": [],
      "source": [
        "# Apply the classification function to the 'message' column\n",
        "df_comment['classification_all'] = df_comment['cleaned_message'].apply(classify_comment_all)\n"
      ]
    },
    {
      "cell_type": "code",
      "execution_count": null,
      "id": "3b3f7b16",
      "metadata": {
        "id": "3b3f7b16",
        "outputId": "c641f05a-9434-4137-fffb-be6bd58a8417"
      },
      "outputs": [
        {
          "data": {
            "text/html": [
              "<div>\n",
              "<style scoped>\n",
              "    .dataframe tbody tr th:only-of-type {\n",
              "        vertical-align: middle;\n",
              "    }\n",
              "\n",
              "    .dataframe tbody tr th {\n",
              "        vertical-align: top;\n",
              "    }\n",
              "\n",
              "    .dataframe thead th {\n",
              "        text-align: right;\n",
              "    }\n",
              "</style>\n",
              "<table border=\"1\" class=\"dataframe\">\n",
              "  <thead>\n",
              "    <tr style=\"text-align: right;\">\n",
              "      <th></th>\n",
              "      <th>submission_id</th>\n",
              "      <th>comment_id</th>\n",
              "      <th>parent_id</th>\n",
              "      <th>score</th>\n",
              "      <th>cleaned_message</th>\n",
              "      <th>classification</th>\n",
              "      <th>classification_all</th>\n",
              "    </tr>\n",
              "  </thead>\n",
              "  <tbody>\n",
              "    <tr>\n",
              "      <th>1</th>\n",
              "      <td>yiplwk</td>\n",
              "      <td>iujucua</td>\n",
              "      <td>t3_yiplwk</td>\n",
              "      <td>23510</td>\n",
              "      <td>you are guests in their home because you are c...</td>\n",
              "      <td>YTA</td>\n",
              "      <td>[YTA]</td>\n",
              "    </tr>\n",
              "    <tr>\n",
              "      <th>2</th>\n",
              "      <td>yiplwk</td>\n",
              "      <td>iujuhrk</td>\n",
              "      <td>t3_yiplwk</td>\n",
              "      <td>8757</td>\n",
              "      <td>yta and your wife seems to be systematically d...</td>\n",
              "      <td>YTA</td>\n",
              "      <td>[YTA]</td>\n",
              "    </tr>\n",
              "    <tr>\n",
              "      <th>3</th>\n",
              "      <td>yiplwk</td>\n",
              "      <td>iuju98c</td>\n",
              "      <td>t3_yiplwk</td>\n",
              "      <td>1465</td>\n",
              "      <td>yta go stay in a hotel if i was your friend i ...</td>\n",
              "      <td>YTA</td>\n",
              "      <td>[YTA]</td>\n",
              "    </tr>\n",
              "    <tr>\n",
              "      <th>4</th>\n",
              "      <td>yiplwk</td>\n",
              "      <td>iujujpn</td>\n",
              "      <td>t3_yiplwk</td>\n",
              "      <td>10726</td>\n",
              "      <td>yta  first your wife had issues with your mom ...</td>\n",
              "      <td>YTA</td>\n",
              "      <td>[YTA]</td>\n",
              "    </tr>\n",
              "    <tr>\n",
              "      <th>5</th>\n",
              "      <td>yiplwk</td>\n",
              "      <td>iujtsph</td>\n",
              "      <td>t3_yiplwk</td>\n",
              "      <td>1479</td>\n",
              "      <td>yta and this is a deeply unreasonable request ...</td>\n",
              "      <td>YTA</td>\n",
              "      <td>[YTA]</td>\n",
              "    </tr>\n",
              "    <tr>\n",
              "      <th>...</th>\n",
              "      <td>...</td>\n",
              "      <td>...</td>\n",
              "      <td>...</td>\n",
              "      <td>...</td>\n",
              "      <td>...</td>\n",
              "      <td>...</td>\n",
              "      <td>...</td>\n",
              "    </tr>\n",
              "    <tr>\n",
              "      <th>8981807</th>\n",
              "      <td>17uu03h</td>\n",
              "      <td>k98sp96</td>\n",
              "      <td>t1_k96ej8d</td>\n",
              "      <td>2</td>\n",
              "      <td>fellow aussie youll learn a couple things as y...</td>\n",
              "      <td>NTA</td>\n",
              "      <td>[NTA]</td>\n",
              "    </tr>\n",
              "    <tr>\n",
              "      <th>8981808</th>\n",
              "      <td>17uu03h</td>\n",
              "      <td>k996f4w</td>\n",
              "      <td>t1_k96ej8d</td>\n",
              "      <td>2</td>\n",
              "      <td>you shouldnt thats a very reasonable question ...</td>\n",
              "      <td>NTA</td>\n",
              "      <td>[NTA]</td>\n",
              "    </tr>\n",
              "    <tr>\n",
              "      <th>8981865</th>\n",
              "      <td>17uu03h</td>\n",
              "      <td>k99dr0i</td>\n",
              "      <td>t1_k9911te</td>\n",
              "      <td>2</td>\n",
              "      <td>yeah but we all know that its annoying on redd...</td>\n",
              "      <td>NAH</td>\n",
              "      <td>[NAH]</td>\n",
              "    </tr>\n",
              "    <tr>\n",
              "      <th>8981871</th>\n",
              "      <td>17uu03h</td>\n",
              "      <td>k99hr6a</td>\n",
              "      <td>t1_k99dr0i</td>\n",
              "      <td>3</td>\n",
              "      <td>i mean is it really that surprising things tha...</td>\n",
              "      <td>YTA</td>\n",
              "      <td>[YTA]</td>\n",
              "    </tr>\n",
              "    <tr>\n",
              "      <th>8981885</th>\n",
              "      <td>17uzszy</td>\n",
              "      <td>k99vvj6</td>\n",
              "      <td>t3_17uzszy</td>\n",
              "      <td>1</td>\n",
              "      <td>yta talk to clara directly tell her that you t...</td>\n",
              "      <td>YTA</td>\n",
              "      <td>[YTA]</td>\n",
              "    </tr>\n",
              "  </tbody>\n",
              "</table>\n",
              "<p>3988631 rows × 7 columns</p>\n",
              "</div>"
            ],
            "text/plain": [
              "        submission_id comment_id   parent_id  score  \\\n",
              "1              yiplwk    iujucua   t3_yiplwk  23510   \n",
              "2              yiplwk    iujuhrk   t3_yiplwk   8757   \n",
              "3              yiplwk    iuju98c   t3_yiplwk   1465   \n",
              "4              yiplwk    iujujpn   t3_yiplwk  10726   \n",
              "5              yiplwk    iujtsph   t3_yiplwk   1479   \n",
              "...               ...        ...         ...    ...   \n",
              "8981807       17uu03h    k98sp96  t1_k96ej8d      2   \n",
              "8981808       17uu03h    k996f4w  t1_k96ej8d      2   \n",
              "8981865       17uu03h    k99dr0i  t1_k9911te      2   \n",
              "8981871       17uu03h    k99hr6a  t1_k99dr0i      3   \n",
              "8981885       17uzszy    k99vvj6  t3_17uzszy      1   \n",
              "\n",
              "                                           cleaned_message classification  \\\n",
              "1        you are guests in their home because you are c...            YTA   \n",
              "2        yta and your wife seems to be systematically d...            YTA   \n",
              "3        yta go stay in a hotel if i was your friend i ...            YTA   \n",
              "4        yta  first your wife had issues with your mom ...            YTA   \n",
              "5        yta and this is a deeply unreasonable request ...            YTA   \n",
              "...                                                    ...            ...   \n",
              "8981807  fellow aussie youll learn a couple things as y...            NTA   \n",
              "8981808  you shouldnt thats a very reasonable question ...            NTA   \n",
              "8981865  yeah but we all know that its annoying on redd...            NAH   \n",
              "8981871  i mean is it really that surprising things tha...            YTA   \n",
              "8981885  yta talk to clara directly tell her that you t...            YTA   \n",
              "\n",
              "        classification_all  \n",
              "1                    [YTA]  \n",
              "2                    [YTA]  \n",
              "3                    [YTA]  \n",
              "4                    [YTA]  \n",
              "5                    [YTA]  \n",
              "...                    ...  \n",
              "8981807              [NTA]  \n",
              "8981808              [NTA]  \n",
              "8981865              [NAH]  \n",
              "8981871              [YTA]  \n",
              "8981885              [YTA]  \n",
              "\n",
              "[3988631 rows x 7 columns]"
            ]
          },
          "execution_count": 42,
          "metadata": {},
          "output_type": "execute_result"
        }
      ],
      "source": [
        "df_comment"
      ]
    },
    {
      "cell_type": "code",
      "execution_count": null,
      "id": "5ac6d82c",
      "metadata": {
        "id": "5ac6d82c",
        "outputId": "c8ae73cc-d451-402d-b765-b43a10a5195b"
      },
      "outputs": [
        {
          "data": {
            "text/plain": [
              "'grief is horrible your sil is going through the stages of grief in her own way and you are trying to hold on to your miracle baby for dear life youre kind of an a h for speaking to her like that but i know you were doing it for your own baby so kind of nta so ill just settle with esh talk to your sister in law again and ask her to try to contain her feeling around you or just stay away until the baby is born all the best'"
            ]
          },
          "execution_count": 51,
          "metadata": {},
          "output_type": "execute_result"
        }
      ],
      "source": [
        "df_comment['cleaned_message'].loc[1143]"
      ]
    },
    {
      "cell_type": "code",
      "execution_count": null,
      "id": "f59f00a4",
      "metadata": {
        "id": "f59f00a4"
      },
      "outputs": [],
      "source": [
        "def prioritise_classes(labels):\n",
        "    category_priority = [\"ESH\", \"NAH\", \"NTA\", \"YTA\"]\n",
        "\n",
        "    if len(labels) == 1:\n",
        "        return labels[0]\n",
        "    else:\n",
        "        labels.sort(key=lambda x: category_priority.index(x))\n",
        "        return labels[0]  # Return the highest priority category\n",
        ""
      ]
    },
    {
      "cell_type": "code",
      "execution_count": null,
      "id": "813275c1",
      "metadata": {
        "id": "813275c1"
      },
      "outputs": [],
      "source": [
        "df_comment['label'] = df_comment['classification_all'].apply(prioritise_classes)\n"
      ]
    },
    {
      "cell_type": "code",
      "execution_count": null,
      "id": "3f7c75f6",
      "metadata": {
        "id": "3f7c75f6",
        "outputId": "3cd1aa53-4379-4055-a6a1-acd98f65242a"
      },
      "outputs": [
        {
          "data": {
            "text/html": [
              "<div>\n",
              "<style scoped>\n",
              "    .dataframe tbody tr th:only-of-type {\n",
              "        vertical-align: middle;\n",
              "    }\n",
              "\n",
              "    .dataframe tbody tr th {\n",
              "        vertical-align: top;\n",
              "    }\n",
              "\n",
              "    .dataframe thead th {\n",
              "        text-align: right;\n",
              "    }\n",
              "</style>\n",
              "<table border=\"1\" class=\"dataframe\">\n",
              "  <thead>\n",
              "    <tr style=\"text-align: right;\">\n",
              "      <th></th>\n",
              "      <th>submission_id</th>\n",
              "      <th>comment_id</th>\n",
              "      <th>parent_id</th>\n",
              "      <th>score</th>\n",
              "      <th>cleaned_message</th>\n",
              "      <th>classification</th>\n",
              "      <th>classification_all</th>\n",
              "      <th>label</th>\n",
              "    </tr>\n",
              "  </thead>\n",
              "  <tbody>\n",
              "    <tr>\n",
              "      <th>51</th>\n",
              "      <td>yiplwk</td>\n",
              "      <td>iujusoo</td>\n",
              "      <td>t3_yiplwk</td>\n",
              "      <td>93</td>\n",
              "      <td>yta youre a guest in his home smh i cant even ...</td>\n",
              "      <td>YTA</td>\n",
              "      <td>[YTA, YTA]</td>\n",
              "      <td>YTA</td>\n",
              "    </tr>\n",
              "    <tr>\n",
              "      <th>342</th>\n",
              "      <td>yiplwk</td>\n",
              "      <td>iuk2ii0</td>\n",
              "      <td>t3_yiplwk</td>\n",
              "      <td>30</td>\n",
              "      <td>yta and so is your wife youre not even guests ...</td>\n",
              "      <td>YTA</td>\n",
              "      <td>[NAH, YTA]</td>\n",
              "      <td>NAH</td>\n",
              "    </tr>\n",
              "    <tr>\n",
              "      <th>677</th>\n",
              "      <td>yiv572</td>\n",
              "      <td>iukygn7</td>\n",
              "      <td>t3_yiv572</td>\n",
              "      <td>22</td>\n",
              "      <td>wow yta i was prepared to say nta from the tit...</td>\n",
              "      <td>NTA</td>\n",
              "      <td>[NTA, YTA]</td>\n",
              "      <td>NTA</td>\n",
              "    </tr>\n",
              "    <tr>\n",
              "      <th>761</th>\n",
              "      <td>yiv572</td>\n",
              "      <td>iul0elt</td>\n",
              "      <td>t3_yiv572</td>\n",
              "      <td>13</td>\n",
              "      <td>yta not cool at all there will only ever be on...</td>\n",
              "      <td>YTA</td>\n",
              "      <td>[YTA, YTA]</td>\n",
              "      <td>YTA</td>\n",
              "    </tr>\n",
              "    <tr>\n",
              "      <th>1143</th>\n",
              "      <td>yimgaf</td>\n",
              "      <td>iujnlx6</td>\n",
              "      <td>t3_yimgaf</td>\n",
              "      <td>-28</td>\n",
              "      <td>grief is horrible your sil is going through th...</td>\n",
              "      <td>NTA</td>\n",
              "      <td>[ESH, NTA]</td>\n",
              "      <td>ESH</td>\n",
              "    </tr>\n",
              "    <tr>\n",
              "      <th>...</th>\n",
              "      <td>...</td>\n",
              "      <td>...</td>\n",
              "      <td>...</td>\n",
              "      <td>...</td>\n",
              "      <td>...</td>\n",
              "      <td>...</td>\n",
              "      <td>...</td>\n",
              "      <td>...</td>\n",
              "    </tr>\n",
              "    <tr>\n",
              "      <th>8981441</th>\n",
              "      <td>17uma05</td>\n",
              "      <td>k99o2a9</td>\n",
              "      <td>t3_17uma05</td>\n",
              "      <td>1</td>\n",
              "      <td>esh it is victim blaming yes she messed up but...</td>\n",
              "      <td>YTA</td>\n",
              "      <td>[ESH, YTA]</td>\n",
              "      <td>ESH</td>\n",
              "    </tr>\n",
              "    <tr>\n",
              "      <th>8981664</th>\n",
              "      <td>17ventx</td>\n",
              "      <td>k9a7n3s</td>\n",
              "      <td>t3_17ventx</td>\n",
              "      <td>3</td>\n",
              "      <td>nta i dont care if you could have chose your w...</td>\n",
              "      <td>NTA</td>\n",
              "      <td>[NTA, NTA]</td>\n",
              "      <td>NTA</td>\n",
              "    </tr>\n",
              "    <tr>\n",
              "      <th>8981670</th>\n",
              "      <td>17ventx</td>\n",
              "      <td>k9ab98q</td>\n",
              "      <td>t3_17ventx</td>\n",
              "      <td>1</td>\n",
              "      <td>nta the best time to say all that was in thera...</td>\n",
              "      <td>NTA</td>\n",
              "      <td>[NTA, YTA]</td>\n",
              "      <td>NTA</td>\n",
              "    </tr>\n",
              "    <tr>\n",
              "      <th>8981673</th>\n",
              "      <td>17ventx</td>\n",
              "      <td>k9akh3j</td>\n",
              "      <td>t3_17ventx</td>\n",
              "      <td>1</td>\n",
              "      <td>nta definitely nta you did nothing wrong your ...</td>\n",
              "      <td>NTA</td>\n",
              "      <td>[NTA, NTA]</td>\n",
              "      <td>NTA</td>\n",
              "    </tr>\n",
              "    <tr>\n",
              "      <th>8981750</th>\n",
              "      <td>17vcoqv</td>\n",
              "      <td>k9ak91j</td>\n",
              "      <td>t3_17vcoqv</td>\n",
              "      <td>1</td>\n",
              "      <td>nah usually id say yta for even expecting to b...</td>\n",
              "      <td>YTA</td>\n",
              "      <td>[NAH, YTA]</td>\n",
              "      <td>NAH</td>\n",
              "    </tr>\n",
              "  </tbody>\n",
              "</table>\n",
              "<p>101611 rows × 8 columns</p>\n",
              "</div>"
            ],
            "text/plain": [
              "        submission_id comment_id   parent_id  score  \\\n",
              "51             yiplwk    iujusoo   t3_yiplwk     93   \n",
              "342            yiplwk    iuk2ii0   t3_yiplwk     30   \n",
              "677            yiv572    iukygn7   t3_yiv572     22   \n",
              "761            yiv572    iul0elt   t3_yiv572     13   \n",
              "1143           yimgaf    iujnlx6   t3_yimgaf    -28   \n",
              "...               ...        ...         ...    ...   \n",
              "8981441       17uma05    k99o2a9  t3_17uma05      1   \n",
              "8981664       17ventx    k9a7n3s  t3_17ventx      3   \n",
              "8981670       17ventx    k9ab98q  t3_17ventx      1   \n",
              "8981673       17ventx    k9akh3j  t3_17ventx      1   \n",
              "8981750       17vcoqv    k9ak91j  t3_17vcoqv      1   \n",
              "\n",
              "                                           cleaned_message classification  \\\n",
              "51       yta youre a guest in his home smh i cant even ...            YTA   \n",
              "342      yta and so is your wife youre not even guests ...            YTA   \n",
              "677      wow yta i was prepared to say nta from the tit...            NTA   \n",
              "761      yta not cool at all there will only ever be on...            YTA   \n",
              "1143     grief is horrible your sil is going through th...            NTA   \n",
              "...                                                    ...            ...   \n",
              "8981441  esh it is victim blaming yes she messed up but...            YTA   \n",
              "8981664  nta i dont care if you could have chose your w...            NTA   \n",
              "8981670  nta the best time to say all that was in thera...            NTA   \n",
              "8981673  nta definitely nta you did nothing wrong your ...            NTA   \n",
              "8981750  nah usually id say yta for even expecting to b...            YTA   \n",
              "\n",
              "        classification_all label  \n",
              "51              [YTA, YTA]   YTA  \n",
              "342             [NAH, YTA]   NAH  \n",
              "677             [NTA, YTA]   NTA  \n",
              "761             [YTA, YTA]   YTA  \n",
              "1143            [ESH, NTA]   ESH  \n",
              "...                    ...   ...  \n",
              "8981441         [ESH, YTA]   ESH  \n",
              "8981664         [NTA, NTA]   NTA  \n",
              "8981670         [NTA, YTA]   NTA  \n",
              "8981673         [NTA, NTA]   NTA  \n",
              "8981750         [NAH, YTA]   NAH  \n",
              "\n",
              "[101611 rows x 8 columns]"
            ]
          },
          "execution_count": 89,
          "metadata": {},
          "output_type": "execute_result"
        }
      ],
      "source": [
        "df_comment[df_comment['classification_all'].apply(len) > 1]"
      ]
    },
    {
      "cell_type": "markdown",
      "id": "525f7fb8",
      "metadata": {
        "id": "525f7fb8"
      },
      "source": [
        "# End of experimetn"
      ]
    },
    {
      "cell_type": "code",
      "execution_count": null,
      "id": "5e27063e",
      "metadata": {
        "id": "5e27063e"
      },
      "outputs": [],
      "source": [
        "df_labeled_comments = df_comment[['submission_id', 'label']]"
      ]
    },
    {
      "cell_type": "code",
      "execution_count": null,
      "id": "02b04ff5",
      "metadata": {
        "id": "02b04ff5"
      },
      "outputs": [],
      "source": [
        "df_comment.to_csv('df_comment_labeled.csv')"
      ]
    },
    {
      "cell_type": "code",
      "execution_count": null,
      "id": "a52dfe43",
      "metadata": {
        "id": "a52dfe43"
      },
      "outputs": [],
      "source": [
        "df_labeled_comments.to_csv('df_labeled_comments.csv')"
      ]
    },
    {
      "cell_type": "code",
      "execution_count": null,
      "id": "c1da775d",
      "metadata": {
        "id": "c1da775d",
        "outputId": "b82d58c0-fb3d-4d1f-c8f0-fdbd61af29f3"
      },
      "outputs": [
        {
          "data": {
            "text/plain": [
              "label\n",
              "NTA    2666030\n",
              "YTA    1058187\n",
              "ESH     160924\n",
              "NAH     103490\n",
              "Name: count, dtype: int64"
            ]
          },
          "execution_count": 99,
          "metadata": {},
          "output_type": "execute_result"
        }
      ],
      "source": [
        "label_counts = df_labeled_comments['label'].value_counts()\n",
        "label_counts"
      ]
    },
    {
      "cell_type": "code",
      "execution_count": null,
      "id": "0886cbba",
      "metadata": {
        "id": "0886cbba"
      },
      "outputs": [],
      "source": []
    }
  ],
  "metadata": {
    "kernelspec": {
      "display_name": "Python 3 (ipykernel)",
      "language": "python",
      "name": "python3"
    },
    "language_info": {
      "codemirror_mode": {
        "name": "ipython",
        "version": 3
      },
      "file_extension": ".py",
      "mimetype": "text/x-python",
      "name": "python",
      "nbconvert_exporter": "python",
      "pygments_lexer": "ipython3",
      "version": "3.9.12"
    },
    "colab": {
      "provenance": []
    }
  },
  "nbformat": 4,
  "nbformat_minor": 5
}