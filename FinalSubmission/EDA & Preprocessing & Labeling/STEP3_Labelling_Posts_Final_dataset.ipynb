{
  "cells": [
    {
      "cell_type": "markdown",
      "id": "12b71104",
      "metadata": {
        "id": "12b71104"
      },
      "source": [
        "# Imports"
      ]
    },
    {
      "cell_type": "code",
      "execution_count": null,
      "id": "b9944631",
      "metadata": {
        "id": "b9944631"
      },
      "outputs": [],
      "source": [
        "import re\n",
        "import pandas as pd\n",
        "import numpy as np\n"
      ]
    },
    {
      "cell_type": "code",
      "execution_count": null,
      "id": "3672fbb7",
      "metadata": {
        "id": "3672fbb7"
      },
      "outputs": [],
      "source": [
        "df_posts = pd.read_csv(\"df_posts_cleaned.csv\")\n"
      ]
    },
    {
      "cell_type": "code",
      "execution_count": null,
      "id": "1ff7f0a3",
      "metadata": {
        "id": "1ff7f0a3"
      },
      "outputs": [],
      "source": [
        "df_labeled_comments = pd.read_csv('df_labeled_comments.csv')"
      ]
    },
    {
      "cell_type": "code",
      "execution_count": null,
      "id": "de11e1e9",
      "metadata": {
        "id": "de11e1e9",
        "outputId": "e7573ea3-e8b2-41c9-884b-8b11875f6ba3"
      },
      "outputs": [
        {
          "data": {
            "text/plain": [
              "label\n",
              "NTA    2666030\n",
              "YTA    1058187\n",
              "ESH     160924\n",
              "NAH     103490\n",
              "Name: count, dtype: int64"
            ]
          },
          "execution_count": 100,
          "metadata": {},
          "output_type": "execute_result"
        }
      ],
      "source": [
        "label_counts = df_labeled_comments['label'].value_counts()\n",
        "label_counts"
      ]
    },
    {
      "cell_type": "markdown",
      "id": "1b6bee0b",
      "metadata": {
        "id": "1b6bee0b"
      },
      "source": [
        "# Combining comments with posts"
      ]
    },
    {
      "cell_type": "code",
      "execution_count": null,
      "id": "71429ef5",
      "metadata": {
        "id": "71429ef5"
      },
      "outputs": [],
      "source": [
        "df_comment = df_labeled_comments"
      ]
    },
    {
      "cell_type": "code",
      "execution_count": null,
      "id": "e38a1cff",
      "metadata": {
        "id": "e38a1cff"
      },
      "outputs": [],
      "source": [
        "df_posts = df_posts.drop(columns = ['permalink'])"
      ]
    },
    {
      "cell_type": "code",
      "execution_count": null,
      "id": "39609fc0",
      "metadata": {
        "id": "39609fc0",
        "outputId": "05a74099-0061-4adf-f657-bb8140655fad"
      },
      "outputs": [
        {
          "data": {
            "text/html": [
              "<div>\n",
              "<style scoped>\n",
              "    .dataframe tbody tr th:only-of-type {\n",
              "        vertical-align: middle;\n",
              "    }\n",
              "\n",
              "    .dataframe tbody tr th {\n",
              "        vertical-align: top;\n",
              "    }\n",
              "\n",
              "    .dataframe thead th {\n",
              "        text-align: right;\n",
              "    }\n",
              "</style>\n",
              "<table border=\"1\" class=\"dataframe\">\n",
              "  <thead>\n",
              "    <tr style=\"text-align: right;\">\n",
              "      <th></th>\n",
              "      <th>Unnamed: 0</th>\n",
              "      <th>submission_id</th>\n",
              "      <th>label</th>\n",
              "    </tr>\n",
              "  </thead>\n",
              "  <tbody>\n",
              "    <tr>\n",
              "      <th>0</th>\n",
              "      <td>1</td>\n",
              "      <td>yiplwk</td>\n",
              "      <td>YTA</td>\n",
              "    </tr>\n",
              "    <tr>\n",
              "      <th>1</th>\n",
              "      <td>2</td>\n",
              "      <td>yiplwk</td>\n",
              "      <td>YTA</td>\n",
              "    </tr>\n",
              "    <tr>\n",
              "      <th>2</th>\n",
              "      <td>3</td>\n",
              "      <td>yiplwk</td>\n",
              "      <td>YTA</td>\n",
              "    </tr>\n",
              "    <tr>\n",
              "      <th>3</th>\n",
              "      <td>4</td>\n",
              "      <td>yiplwk</td>\n",
              "      <td>YTA</td>\n",
              "    </tr>\n",
              "    <tr>\n",
              "      <th>4</th>\n",
              "      <td>5</td>\n",
              "      <td>yiplwk</td>\n",
              "      <td>YTA</td>\n",
              "    </tr>\n",
              "    <tr>\n",
              "      <th>...</th>\n",
              "      <td>...</td>\n",
              "      <td>...</td>\n",
              "      <td>...</td>\n",
              "    </tr>\n",
              "    <tr>\n",
              "      <th>3988626</th>\n",
              "      <td>8981807</td>\n",
              "      <td>17uu03h</td>\n",
              "      <td>NTA</td>\n",
              "    </tr>\n",
              "    <tr>\n",
              "      <th>3988627</th>\n",
              "      <td>8981808</td>\n",
              "      <td>17uu03h</td>\n",
              "      <td>NTA</td>\n",
              "    </tr>\n",
              "    <tr>\n",
              "      <th>3988628</th>\n",
              "      <td>8981865</td>\n",
              "      <td>17uu03h</td>\n",
              "      <td>NAH</td>\n",
              "    </tr>\n",
              "    <tr>\n",
              "      <th>3988629</th>\n",
              "      <td>8981871</td>\n",
              "      <td>17uu03h</td>\n",
              "      <td>YTA</td>\n",
              "    </tr>\n",
              "    <tr>\n",
              "      <th>3988630</th>\n",
              "      <td>8981885</td>\n",
              "      <td>17uzszy</td>\n",
              "      <td>YTA</td>\n",
              "    </tr>\n",
              "  </tbody>\n",
              "</table>\n",
              "<p>3988631 rows × 3 columns</p>\n",
              "</div>"
            ],
            "text/plain": [
              "         Unnamed: 0 submission_id label\n",
              "0                 1        yiplwk   YTA\n",
              "1                 2        yiplwk   YTA\n",
              "2                 3        yiplwk   YTA\n",
              "3                 4        yiplwk   YTA\n",
              "4                 5        yiplwk   YTA\n",
              "...             ...           ...   ...\n",
              "3988626     8981807       17uu03h   NTA\n",
              "3988627     8981808       17uu03h   NTA\n",
              "3988628     8981865       17uu03h   NAH\n",
              "3988629     8981871       17uu03h   YTA\n",
              "3988630     8981885       17uzszy   YTA\n",
              "\n",
              "[3988631 rows x 3 columns]"
            ]
          },
          "execution_count": 103,
          "metadata": {},
          "output_type": "execute_result"
        }
      ],
      "source": [
        "df_comment"
      ]
    },
    {
      "cell_type": "code",
      "execution_count": null,
      "id": "eedfe984",
      "metadata": {
        "id": "eedfe984"
      },
      "outputs": [],
      "source": [
        "#lables\n",
        "df_labeles = df_comment.groupby('submission_id')['label'].apply(list).reset_index()"
      ]
    },
    {
      "cell_type": "code",
      "execution_count": null,
      "id": "c57b4eef",
      "metadata": {
        "id": "c57b4eef"
      },
      "outputs": [],
      "source": [
        "from collections import Counter\n",
        "\n",
        "def choose_label(labels, threshold = 25):\n",
        "    counts = Counter(labels)\n",
        "\n",
        "    if counts['NAH'] >= threshold:\n",
        "        return 'NAH'\n",
        "    elif counts['ESH'] >= threshold:\n",
        "        return 'ESH'\n",
        "    else:\n",
        "        return counts.most_common(1)[0][0]  # most common label\n",
        "\n"
      ]
    },
    {
      "cell_type": "code",
      "execution_count": null,
      "id": "b3cbe72d",
      "metadata": {
        "scrolled": true,
        "id": "b3cbe72d"
      },
      "outputs": [],
      "source": [
        "df_labeles['ChosenLabel'] = df_labeles['label'].apply(choose_label)"
      ]
    },
    {
      "cell_type": "code",
      "execution_count": null,
      "id": "e14f9392",
      "metadata": {
        "id": "e14f9392"
      },
      "outputs": [],
      "source": [
        "df_labeles = df_labeles.drop(columns = 'label')\n",
        "df_labeles = df_labeles.rename(columns={'ChosenLabel': 'Label'})"
      ]
    },
    {
      "cell_type": "markdown",
      "id": "7692e2ae",
      "metadata": {
        "id": "7692e2ae"
      },
      "source": [
        "# Assigning lables to posts"
      ]
    },
    {
      "cell_type": "code",
      "execution_count": null,
      "id": "61f1aa30",
      "metadata": {
        "id": "61f1aa30",
        "outputId": "bd06b75e-c396-4649-b42c-bc10f37645c7"
      },
      "outputs": [
        {
          "data": {
            "text/plain": [
              "(30054, 2)"
            ]
          },
          "execution_count": 108,
          "metadata": {},
          "output_type": "execute_result"
        }
      ],
      "source": [
        "df_labeles.shape"
      ]
    },
    {
      "cell_type": "code",
      "execution_count": null,
      "id": "b6822e26",
      "metadata": {
        "id": "b6822e26",
        "outputId": "9ce85f76-5d4f-40a7-d01e-78a4b53b9b7a"
      },
      "outputs": [
        {
          "data": {
            "text/plain": [
              "(30054, 5)"
            ]
          },
          "execution_count": 109,
          "metadata": {},
          "output_type": "execute_result"
        }
      ],
      "source": [
        "df_posts.shape"
      ]
    },
    {
      "cell_type": "code",
      "execution_count": null,
      "id": "02869fe8",
      "metadata": {
        "id": "02869fe8"
      },
      "outputs": [],
      "source": [
        "labeled_post_ids = df_labeles['submission_id'].unique()"
      ]
    },
    {
      "cell_type": "code",
      "execution_count": null,
      "id": "e8e16276",
      "metadata": {
        "id": "e8e16276"
      },
      "outputs": [],
      "source": [
        "# dropping posts that wouln't get lables assigned\n",
        "df_posts = df_posts[df_posts['submission_id'].isin(labeled_post_ids)]\n"
      ]
    },
    {
      "cell_type": "code",
      "execution_count": null,
      "id": "e4ad5f88",
      "metadata": {
        "id": "e4ad5f88",
        "outputId": "05889bc2-f4d8-4435-a37c-501dcc64457b"
      },
      "outputs": [
        {
          "data": {
            "text/plain": [
              "(30054, 5)"
            ]
          },
          "execution_count": 112,
          "metadata": {},
          "output_type": "execute_result"
        }
      ],
      "source": [
        "df_posts.shape"
      ]
    },
    {
      "cell_type": "code",
      "execution_count": null,
      "id": "8fe8ea1a",
      "metadata": {
        "id": "8fe8ea1a"
      },
      "outputs": [],
      "source": [
        "labeled_df = pd.merge(df_posts, df_labeles, on='submission_id', how='inner')"
      ]
    },
    {
      "cell_type": "code",
      "execution_count": null,
      "id": "2e63a633",
      "metadata": {
        "id": "2e63a633"
      },
      "outputs": [],
      "source": [
        "labeled_df.to_csv('labeled_df')\n"
      ]
    },
    {
      "cell_type": "code",
      "execution_count": null,
      "id": "37c5d07e",
      "metadata": {
        "id": "37c5d07e",
        "outputId": "80f4ed33-a26f-4a1f-f432-c935eb6e0dfd"
      },
      "outputs": [
        {
          "data": {
            "text/plain": [
              "Label\n",
              "NTA    23153\n",
              "YTA     4499\n",
              "ESH     1661\n",
              "NAH      741\n",
              "Name: count, dtype: int64"
            ]
          },
          "execution_count": 116,
          "metadata": {},
          "output_type": "execute_result"
        }
      ],
      "source": [
        "labeled_df['Label'].value_counts()"
      ]
    },
    {
      "cell_type": "code",
      "execution_count": null,
      "id": "dcfdc574",
      "metadata": {
        "id": "dcfdc574"
      },
      "outputs": [],
      "source": []
    },
    {
      "cell_type": "markdown",
      "source": [
        "# Creating Final Subset:\n",
        "This subset will hold only 500 records of minority classes only (YTA, ESH, NAH)\n",
        "\n",
        "\n"
      ],
      "metadata": {
        "id": "kECERpqRJFnN"
      },
      "id": "kECERpqRJFnN"
    },
    {
      "cell_type": "code",
      "source": [
        "minorities = labeled_df[labeled_df['Label'] != 'NTA']\n",
        "minorities_subset = minorities[:500]"
      ],
      "metadata": {
        "id": "7MK8WxBJJWhs"
      },
      "id": "7MK8WxBJJWhs",
      "execution_count": null,
      "outputs": []
    },
    {
      "cell_type": "code",
      "source": [
        "minorities_subset.to_csv('AITA_minorities_subset.csv')"
      ],
      "metadata": {
        "id": "DuwP6brrJVNK"
      },
      "id": "DuwP6brrJVNK",
      "execution_count": null,
      "outputs": []
    }
  ],
  "metadata": {
    "kernelspec": {
      "display_name": "Python 3 (ipykernel)",
      "language": "python",
      "name": "python3"
    },
    "language_info": {
      "codemirror_mode": {
        "name": "ipython",
        "version": 3
      },
      "file_extension": ".py",
      "mimetype": "text/x-python",
      "name": "python",
      "nbconvert_exporter": "python",
      "pygments_lexer": "ipython3",
      "version": "3.9.12"
    },
    "colab": {
      "provenance": []
    }
  },
  "nbformat": 4,
  "nbformat_minor": 5
}